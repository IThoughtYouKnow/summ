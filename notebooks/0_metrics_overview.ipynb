{
 "metadata": {
  "language_info": {
   "codemirror_mode": {
    "name": "ipython",
    "version": 3
   },
   "file_extension": ".py",
   "mimetype": "text/x-python",
   "name": "python",
   "nbconvert_exporter": "python",
   "pygments_lexer": "ipython3",
   "version": "3.8.10-final"
  },
  "orig_nbformat": 2,
  "kernelspec": {
   "name": "python381064bitvenvvenvc5206c77ee25436a9af873d7e9575275",
   "display_name": "Python 3.8.10 64-bit ('.venv': venv)"
  }
 },
 "nbformat": 4,
 "nbformat_minor": 2,
 "cells": [
  {
   "source": [
    "# Metrics for this task"
   ],
   "cell_type": "markdown",
   "metadata": {}
  },
  {
   "source": [
    "Extractive summarization mainly measured by several word- and n-gram-similarity scoring algorithms, which calculate the fraction of target text that was produced by the model."
   ],
   "cell_type": "markdown",
   "metadata": {}
  },
  {
   "source": [
    "## Rouge\n",
    "Python implementation:\n",
    "https://github.com/IlyaGusev/rouge"
   ],
   "cell_type": "markdown",
   "metadata": {}
  }
 ]
}