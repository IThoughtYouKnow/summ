{
 "metadata": {
  "language_info": {
   "codemirror_mode": {
    "name": "ipython",
    "version": 3
   },
   "file_extension": ".py",
   "mimetype": "text/x-python",
   "name": "python",
   "nbconvert_exporter": "python",
   "pygments_lexer": "ipython3",
   "version": "3.8.10-final"
  },
  "orig_nbformat": 2,
  "kernelspec": {
   "name": "python381064bitvenvvenvc5206c77ee25436a9af873d7e9575275",
   "display_name": "Python 3.8.10 64-bit ('.venv': venv)"
  }
 },
 "nbformat": 4,
 "nbformat_minor": 2,
 "cells": [
  {
   "source": [
    "# Baseline solution"
   ],
   "cell_type": "markdown",
   "metadata": {}
  },
  {
   "source": [
    "I'm going to use a quite widespread approach:\n",
    "\n",
    "1. Encode sents using spacy's.\n",
    "2. Calculate pairwise similarity. Find n centroids.\n",
    "3. Leave the least similar of all - they might carry the most diverse information altogether.\n"
   ],
   "cell_type": "markdown",
   "metadata": {}
  },
  {
   "source": [
    "## 1. Encoding"
   ],
   "cell_type": "markdown",
   "metadata": {}
  },
  {
   "cell_type": "code",
   "execution_count": 1,
   "metadata": {},
   "outputs": [],
   "source": [
    "import spacy\n",
    "import numpy as np"
   ]
  },
  {
   "cell_type": "code",
   "execution_count": 2,
   "metadata": {},
   "outputs": [],
   "source": [
    "n = 4"
   ]
  },
  {
   "cell_type": "code",
   "execution_count": 3,
   "metadata": {},
   "outputs": [],
   "source": [
    "nlp = spacy.load('en_core_web_lg')"
   ]
  },
  {
   "cell_type": "code",
   "execution_count": 4,
   "metadata": {},
   "outputs": [],
   "source": [
    "body = \"Resonance is the literary magazine put out by the students of Falmouth Academy, the Massachusetts private school I attended for six years, starting in the seventh grade. During my time at F.A., I had at least one poem published in each issue of Resonance. In high school, I was also a member of the staff. But that wasn’t why I loved it. I loved it — and I swear I am not exaggerating here — because I thought the writing in its pages was more beautiful than anything I’d ever read. I was not a happy or popular adolescent, and the emotional stance I adopted toward most of my peers at F.A. might best be described as a defensive crouch. I was scared of my classmates, and I resented them; I could tell they didn’t like me, but I couldn’t figure out why. To the extent that I was able to lift myself out of my own sodden self-loathing to contemplate their inner worlds, I imagined their minds to be filled, like mine, with a whirlwind of criticism and judgment. But, once a year, at the end of the spring semester, I would open my copy of Resonance and be forced to face the unsettling possibility that my classmates were not the shallow bullies I imagined them to be but actual people, with souls.\""
   ]
  },
  {
   "cell_type": "code",
   "execution_count": 5,
   "metadata": {},
   "outputs": [],
   "source": [
    "doc = nlp(body)"
   ]
  },
  {
   "cell_type": "code",
   "execution_count": 287,
   "metadata": {},
   "outputs": [
    {
     "output_type": "stream",
     "name": "stdout",
     "text": [
      "No. sents: 9\n... which were embedded into 300-dimensional space\n"
     ]
    }
   ],
   "source": [
    "sentence_buffer = []\n",
    "vector_buffer = []\n",
    "for sent in doc.sents:\n",
    "    sentence_buffer.append(sent.text)\n",
    "    vector_buffer.append(sent.vector)\n",
    "n_sents = len(vector_buffer)\n",
    "print(f\"No. sents: {n_sents}\")\n",
    "sents_matrix = np.array(vector_buffer) \n",
    "print(f\"... which were embedded into {sents_matrix.shape[1]}-dimensional space\")"
   ]
  },
  {
   "cell_type": "code",
   "execution_count": 23,
   "metadata": {},
   "outputs": [],
   "source": [
    "\n"
   ]
  },
  {
   "cell_type": "code",
   "execution_count": 24,
   "metadata": {},
   "outputs": [],
   "source": [
    "pairwise_dot = sents_matrix @ sents_matrix.T\n",
    "pairwise_norm = np.linalg.norm(sents_matrix, axis=1).reshape(-1, 1)\n",
    "pairwise_norm = pairwise_norm @ pairwise_norm.T"
   ]
  },
  {
   "cell_type": "code",
   "execution_count": 27,
   "metadata": {},
   "outputs": [
    {
     "output_type": "execute_result",
     "data": {
      "text/plain": [
       "array([[1., 0., 0., 0., 0., 0., 0., 0., 0.],\n",
       "       [0., 1., 0., 0., 0., 0., 0., 0., 0.],\n",
       "       [0., 0., 1., 0., 0., 0., 0., 0., 0.],\n",
       "       [0., 0., 0., 1., 0., 0., 0., 0., 0.],\n",
       "       [0., 0., 0., 0., 1., 0., 0., 0., 0.],\n",
       "       [0., 0., 0., 0., 0., 1., 0., 0., 0.],\n",
       "       [0., 0., 0., 0., 0., 0., 1., 0., 0.],\n",
       "       [0., 0., 0., 0., 0., 0., 0., 1., 0.],\n",
       "       [0., 0., 0., 0., 0., 0., 0., 0., 1.]])"
      ]
     },
     "metadata": {},
     "execution_count": 27
    }
   ],
   "source": [
    "np.round(pairwise_dot / pairwise_norm * np.eye(n_sents))"
   ]
  },
  {
   "source": [
    "## 2. Calculating centroids"
   ],
   "cell_type": "markdown",
   "metadata": {}
  },
  {
   "cell_type": "code",
   "execution_count": 274,
   "metadata": {},
   "outputs": [],
   "source": [
    "from sklearn.cluster import KMeans"
   ]
  },
  {
   "cell_type": "code",
   "execution_count": 277,
   "metadata": {},
   "outputs": [
    {
     "output_type": "execute_result",
     "data": {
      "text/plain": [
       "KMeans(n_clusters=4)"
      ]
     },
     "metadata": {},
     "execution_count": 277
    }
   ],
   "source": [
    "kmns = KMeans(n_clusters=n)\n",
    "kmns.fit(sents_matrix)"
   ]
  },
  {
   "cell_type": "code",
   "execution_count": 278,
   "metadata": {},
   "outputs": [
    {
     "output_type": "execute_result",
     "data": {
      "text/plain": [
       "array([3, 1, 3, 2, 2, 0, 2, 0, 0], dtype=int32)"
      ]
     },
     "metadata": {},
     "execution_count": 278
    }
   ],
   "source": [
    "kmns.predict(sents_matrix)"
   ]
  },
  {
   "cell_type": "code",
   "execution_count": 281,
   "metadata": {},
   "outputs": [
    {
     "output_type": "execute_result",
     "data": {
      "text/plain": [
       "(4, 300)"
      ]
     },
     "metadata": {},
     "execution_count": 281
    }
   ],
   "source": [
    "kmns.cluster_centers_.shape"
   ]
  },
  {
   "source": [
    "## 3. Finding closest"
   ],
   "cell_type": "markdown",
   "metadata": {}
  },
  {
   "cell_type": "code",
   "execution_count": 288,
   "metadata": {},
   "outputs": [
    {
     "output_type": "stream",
     "name": "stdout",
     "text": [
      "For centroid 0 the closest is 8: [1.4526037, 1.378992, 1.5280867, 1.8807921, 1.4262528, 0.68644917, 1.4759239, 0.59049946, 0.49980232]\nFor centroid 1 the closest is 1: [1.5242139, 2.8108515e-08, 1.723594, 2.2791972, 1.751496, 1.4821645, 2.0238597, 1.6517166, 1.3599932]\nFor centroid 2 the closest is 6: [2.222229, 1.916933, 2.0684254, 0.686803, 0.68368447, 1.6655036, 0.6288617, 1.6213056, 1.44309]\nFor centroid 3 the closest is 0: [0.68872505, 1.4739945, 0.68872505, 2.3726172, 1.9225903, 1.40461, 2.1002202, 1.6076026, 1.325527]\n"
     ]
    }
   ],
   "source": [
    "the_closest = []\n",
    "for i in range(n):\n",
    "    dists_to_centroid = []\n",
    "    for j in range(n_sents):\n",
    "        dist = np.linalg.norm(sents_matrix[j]-kmns.cluster_centers_[i])\n",
    "        dists_to_centroid.append(dist)\n",
    "    closest = np.argmin(dists_to_centroid)\n",
    "    the_closest.append(closest)\n",
    "    print(f\"For centroid {i} the closest is {closest}: {dists_to_centroid}\")\n"
   ]
  },
  {
   "source": [
    "## 4. Finale\n",
    "\n",
    "Well, we're done here. The sentences choosen above should give quite fine summary."
   ],
   "cell_type": "markdown",
   "metadata": {}
  },
  {
   "cell_type": "code",
   "execution_count": 289,
   "metadata": {},
   "outputs": [
    {
     "output_type": "stream",
     "name": "stdout",
     "text": [
      "Resonance is the literary magazine put out by the students of Falmouth Academy, the Massachusetts private school I attended for six years, starting in the seventh grade.\nDuring my time at F.A., I had at least one poem published in each issue of Resonance.\nI was scared of my classmates, and I resented them; I could tell they didn’t like me, but I couldn’t figure out why.\nBut, once a year, at the end of the spring semester, I would open my copy of Resonance and be forced to face the unsettling possibility that my classmates were not the shallow bullies I imagined them to be but actual people, with souls.\n"
     ]
    }
   ],
   "source": [
    "for i in sorted(the_closest):\n",
    "    print(sentence_buffer[i])"
   ]
  },
  {
   "cell_type": "code",
   "execution_count": null,
   "metadata": {},
   "outputs": [],
   "source": []
  }
 ]
}