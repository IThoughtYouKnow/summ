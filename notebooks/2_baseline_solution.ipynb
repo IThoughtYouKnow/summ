{
 "metadata": {
  "language_info": {
   "codemirror_mode": {
    "name": "ipython",
    "version": 3
   },
   "file_extension": ".py",
   "mimetype": "text/x-python",
   "name": "python",
   "nbconvert_exporter": "python",
   "pygments_lexer": "ipython3",
   "version": "3.8.10-final"
  },
  "orig_nbformat": 2,
  "kernelspec": {
   "name": "python381064bitvenvvenvc5206c77ee25436a9af873d7e9575275",
   "display_name": "Python 3.8.10 64-bit ('.venv': venv)"
  }
 },
 "nbformat": 4,
 "nbformat_minor": 2,
 "cells": [
  {
   "source": [
    "# Baseline solution"
   ],
   "cell_type": "markdown",
   "metadata": {}
  },
  {
   "source": [
    "I'm going to use a quite widespread approach:\n",
    "\n",
    "1. Encode sents using spacy's.\n",
    "2. Calculate pairwise similarity. Find n centroids.\n",
    "3. Leave the least similar of all - they might carry the most diverse information altogether.\n"
   ],
   "cell_type": "markdown",
   "metadata": {}
  },
  {
   "source": [
    "## 1. Encoding"
   ],
   "cell_type": "markdown",
   "metadata": {}
  },
  {
   "cell_type": "code",
   "execution_count": 2,
   "metadata": {},
   "outputs": [],
   "source": [
    "import spacy\n",
    "import numpy as np"
   ]
  },
  {
   "cell_type": "code",
   "execution_count": 29,
   "metadata": {},
   "outputs": [],
   "source": [
    "n = 4"
   ]
  },
  {
   "cell_type": "code",
   "execution_count": 3,
   "metadata": {},
   "outputs": [],
   "source": [
    "nlp = spacy.load('en_core_web_lg')"
   ]
  },
  {
   "cell_type": "code",
   "execution_count": 4,
   "metadata": {},
   "outputs": [],
   "source": [
    "body = \"Resonance is the literary magazine put out by the students of Falmouth Academy, the Massachusetts private school I attended for six years, starting in the seventh grade. During my time at F.A., I had at least one poem published in each issue of Resonance. In high school, I was also a member of the staff. But that wasn’t why I loved it. I loved it — and I swear I am not exaggerating here — because I thought the writing in its pages was more beautiful than anything I’d ever read. I was not a happy or popular adolescent, and the emotional stance I adopted toward most of my peers at F.A. might best be described as a defensive crouch. I was scared of my classmates, and I resented them; I could tell they didn’t like me, but I couldn’t figure out why. To the extent that I was able to lift myself out of my own sodden self-loathing to contemplate their inner worlds, I imagined their minds to be filled, like mine, with a whirlwind of criticism and judgment. But, once a year, at the end of the spring semester, I would open my copy of Resonance and be forced to face the unsettling possibility that my classmates were not the shallow bullies I imagined them to be but actual people, with souls.\""
   ]
  },
  {
   "cell_type": "code",
   "execution_count": 5,
   "metadata": {},
   "outputs": [],
   "source": [
    "doc = nlp(body)"
   ]
  },
  {
   "cell_type": "code",
   "execution_count": 26,
   "metadata": {},
   "outputs": [
    {
     "output_type": "stream",
     "name": "stdout",
     "text": [
      "Resonance is the literary magazine put out by the students of Falmouth Academy, the Massachusetts private school I attended for six years, starting in the seventh grade.\nResonance True 6.9326005\nis True 4.890306\nthe True 4.70935\nliterary True 6.964483\nmagazine True 6.877049\nput True 4.781737\nout True 4.7105656\nby True 6.015159\nthe True 4.70935\nstudents True 7.4431043\nof True 4.97793\nFalmouth True 7.2937627\nAcademy True 6.1955934\n, True 5.094723\nthe True 4.70935\nMassachusetts True 7.2088585\nprivate True 6.5312657\nschool True 6.7380905\nI True 6.4231944\nattended True 6.2321525\nfor True 4.8435082\nsix True 5.694776\nyears True 5.888022\n, True 5.094723\nstarting True 5.2703567\nin True 5.0929856\nthe True 4.70935\nseventh True 6.2015734\ngrade True 6.64393\n. True 4.9316354\n"
     ]
    }
   ],
   "source": [
    "d = np.zeros_like(sent.vector)\n",
    "for sent in doc.sents:\n",
    "    print(sent.text)\n",
    "    for token in sent:\n",
    "        print(token.text, token.has_vector, token.vector_norm)\n",
    "        d += token.vector\n",
    "    break"
   ]
  },
  {
   "source": [
    "## 2. Calculating centroids"
   ],
   "cell_type": "markdown",
   "metadata": {}
  },
  {
   "cell_type": "code",
   "execution_count": 34,
   "metadata": {},
   "outputs": [
    {
     "output_type": "execute_result",
     "data": {
      "text/plain": [
       "4.9316354"
      ]
     },
     "metadata": {},
     "execution_count": 34
    }
   ],
   "source": []
  },
  {
   "cell_type": "code",
   "execution_count": 35,
   "metadata": {},
   "outputs": [
    {
     "output_type": "execute_result",
     "data": {
      "text/plain": [
       "1.0"
      ]
     },
     "metadata": {},
     "execution_count": 35
    }
   ],
   "source": [
    "(token.vector @ token.vector)/(np.linalg.norm(token.vector)*np.linalg.norm(token.vector))"
   ]
  },
  {
   "cell_type": "code",
   "execution_count": null,
   "metadata": {},
   "outputs": [],
   "source": []
  }
 ]
}